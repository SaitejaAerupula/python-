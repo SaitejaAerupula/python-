{
 "cells": [
  {
   "cell_type": "code",
   "execution_count": 25,
   "id": "16abb90f-d067-404e-bb78-ef7b1d6e4b4f",
   "metadata": {},
   "outputs": [
    {
     "name": "stdin",
     "output_type": "stream",
     "text": [
      "entera num -2\n"
     ]
    },
    {
     "name": "stdout",
     "output_type": "stream",
     "text": [
      "neg\n"
     ]
    }
   ],
   "source": [
    "n=int(input(\"entera num\"))\n",
    "if n>0:\n",
    "    print(\"n is positive\")\n",
    "elif n==0:\n",
    "    print(\"zero\")\n",
    "else:\n",
    "    print(\"neg\")"
   ]
  },
  {
   "cell_type": "code",
   "execution_count": 29,
   "id": "bf6eab77-7d7b-4a6a-a441-2075aa5c13d8",
   "metadata": {},
   "outputs": [
    {
     "name": "stdin",
     "output_type": "stream",
     "text": [
      "entera num 3\n"
     ]
    },
    {
     "name": "stdout",
     "output_type": "stream",
     "text": [
      "odd\n"
     ]
    }
   ],
   "source": [
    "n=int(input(\"entera num\"))\n",
    "if n%2==0:\n",
    "    print(\"n is even\")\n",
    "else:\n",
    "    print(\"odd\")\n"
   ]
  },
  {
   "cell_type": "code",
   "execution_count": null,
   "id": "176b41d4-d503-422c-bae0-8623e8667131",
   "metadata": {},
   "outputs": [],
   "source": []
  },
  {
   "cell_type": "code",
   "execution_count": 39,
   "id": "275ba8dd-5933-4211-8c42-670c72fc5a0f",
   "metadata": {},
   "outputs": [
    {
     "name": "stdin",
     "output_type": "stream",
     "text": [
      "entera num 2025\n"
     ]
    },
    {
     "name": "stdout",
     "output_type": "stream",
     "text": [
      "2025 is a not\n"
     ]
    }
   ],
   "source": [
    "year=int(input(\"entera num\"))\n",
    "if (year%400==0)and(year%100==0):\n",
    "    print(\"{0} isa leap year\".format(year))\n",
    "elif (year%4==0) and (year%100!=0):\n",
    "    print(\"{0} is a leap year\".format(year))\n",
    "else:\n",
    "    print(\"{0} is a not\".format(year))"
   ]
  },
  {
   "cell_type": "code",
   "execution_count": 51,
   "id": "ba57cb27-8fe2-4c55-b06d-280992000d12",
   "metadata": {},
   "outputs": [
    {
     "name": "stdin",
     "output_type": "stream",
     "text": [
      "enter num 23\n"
     ]
    },
    {
     "name": "stdout",
     "output_type": "stream",
     "text": [
      "23,is a prime\n"
     ]
    }
   ],
   "source": [
    "num=int(input(\"enter num\"))\n",
    "flag = False\n",
    "if num == 1:\n",
    "    print(f\"{num} ,is a not prime\")\n",
    "elif num > 1:\n",
    "    for i in range(2,num):\n",
    "        if(num%i == 0):\n",
    "            flag = True\n",
    "            break\n",
    "if flag:\n",
    "    print(f\"{num},is a not\")\n",
    "else:\n",
    "    print(f\"{num},is a prime\")\n",
    "            "
   ]
  },
  {
   "cell_type": "code",
   "execution_count": 55,
   "id": "93e3da25-4761-4f7a-a91c-a46374ffe9ba",
   "metadata": {},
   "outputs": [
    {
     "name": "stdout",
     "output_type": "stream",
     "text": [
      "prime number between 1 and 10 are\n",
      "2\n",
      "3\n",
      "5\n",
      "7\n"
     ]
    }
   ],
   "source": [
    "lower =1\n",
    "upper = 10\n",
    "print(\"prime number between\",lower,\"and\",upper,\"are\")\n",
    "for num in range(lower,upper+1):\n",
    "    if num>1:\n",
    "        for i in range(2,num):\n",
    "            if(num%i)==0:\n",
    "                break\n",
    "        else:\n",
    "                print(num)"
   ]
  },
  {
   "cell_type": "code",
   "execution_count": 59,
   "id": "0a220742-2f4f-41af-a785-59d41549a428",
   "metadata": {},
   "outputs": [
    {
     "name": "stdin",
     "output_type": "stream",
     "text": [
      "enter a number 4\n"
     ]
    },
    {
     "name": "stdout",
     "output_type": "stream",
     "text": [
      "fact 4 is 24\n"
     ]
    }
   ],
   "source": [
    "num = int(input(\"enter a number\"))\n",
    "factorial = 1\n",
    "if num < 0:\n",
    "    print(\"factorial of numer\")\n",
    "elif num == 0:\n",
    "    print(\"num is 1\")\n",
    "else:\n",
    "    for i in range(1,num+1):\n",
    "        factorial =factorial*i\n",
    "    print(f\"fact {num} is {factorial}\")"
   ]
  },
  {
   "cell_type": "code",
   "execution_count": 65,
   "id": "9243bba8-a767-497c-8033-9fabece2d53d",
   "metadata": {},
   "outputs": [
    {
     "name": "stdin",
     "output_type": "stream",
     "text": [
      "enter a numver 6\n"
     ]
    },
    {
     "name": "stdout",
     "output_type": "stream",
     "text": [
      "6 * 1 =6\n",
      "6 * 2 =12\n",
      "6 * 3 =18\n",
      "6 * 4 =24\n",
      "6 * 5 =30\n",
      "6 * 6 =36\n",
      "6 * 7 =42\n",
      "6 * 8 =48\n",
      "6 * 9 =54\n",
      "6 * 10 =60\n"
     ]
    }
   ],
   "source": [
    "num= int(input(\"enter a numver\"))\n",
    "for i in range(1,11):\n",
    "    print(f\"{num} * {i} ={num*i}\")\n",
    "         "
   ]
  },
  {
   "cell_type": "code",
   "execution_count": 71,
   "id": "fda7f983-0326-4916-9423-16b163f2712d",
   "metadata": {},
   "outputs": [
    {
     "name": "stdin",
     "output_type": "stream",
     "text": [
      "Enter the number of terms you want in the Fibonacci sequence:  5\n"
     ]
    },
    {
     "name": "stdout",
     "output_type": "stream",
     "text": [
      "[0, 1, 1, 2, 3]\n"
     ]
    }
   ],
   "source": [
    "\n",
    "def fibonacci(n):\n",
    "    sequence = [0, 1]\n",
    "    while len(sequence) < n:\n",
    "        next_number = sequence[-1] + sequence[-2]\n",
    "        sequence.append(next_number)\n",
    "    return sequence\n",
    "\n",
    "# Get user input\n",
    "n = int(input(\"Enter the number of terms you want in the Fibonacci sequence: \"))\n",
    "\n",
    "# Print the Fibonacci sequence\n",
    "print(fibonacci(n))\n"
   ]
  },
  {
   "cell_type": "code",
   "execution_count": 79,
   "id": "aa425d3d-0aec-48f8-9c68-870ecdbd987c",
   "metadata": {},
   "outputs": [
    {
     "name": "stdin",
     "output_type": "stream",
     "text": [
      "enter 3\n"
     ]
    },
    {
     "name": "stdout",
     "output_type": "stream",
     "text": [
      "[0, 1, 1]\n"
     ]
    }
   ],
   "source": [
    "def fibonacci(n):\n",
    "    sequence = [0,1]\n",
    "    while len(sequence) <n:\n",
    "        n_n = sequence[-1] + sequence [-2]\n",
    "        sequence.append(n_n)\n",
    "        return sequence\n",
    "n=int(input(\"enter\"))\n",
    "print(fibonacci(n))"
   ]
  },
  {
   "cell_type": "code",
   "execution_count": 101,
   "id": "46ff3602-342c-4b2e-92da-5c7a06427898",
   "metadata": {},
   "outputs": [
    {
     "name": "stdin",
     "output_type": "stream",
     "text": [
      "enter 140\n"
     ]
    },
    {
     "name": "stdout",
     "output_type": "stream",
     "text": [
      "140 no\n"
     ]
    }
   ],
   "source": [
    "def is_armstrong_number(number):\n",
    "    num_str = str(number)\n",
    "    num_digits = len(num_str)\n",
    "    sum_of_powers = sum(int(digits)**num_digits for digits in num_str)\n",
    "    return number ==sum_of_powers\n",
    "num=int(input(\"enter\"))\n",
    "if is_armstrong_number(num):\n",
    "    print(f\"{num} is a num\")\n",
    "else:\n",
    "    print(f\"{num} no\")"
   ]
  },
  {
   "cell_type": "code",
   "execution_count": 115,
   "id": "598cfe06-337a-4dbd-b440-3a09eae18222",
   "metadata": {},
   "outputs": [
    {
     "name": "stdin",
     "output_type": "stream",
     "text": [
      "en 10\n",
      "e 1000\n"
     ]
    },
    {
     "name": "stdout",
     "output_type": "stream",
     "text": [
      "153\n",
      "370\n",
      "371\n",
      "407\n"
     ]
    }
   ],
   "source": [
    "lower=int(input(\"en\"))\n",
    "upper=int(input(\"e\"))\n",
    "for num in range(lower,upper+1):\n",
    "    order=len(str(num))\n",
    "    temp_num=num\n",
    "    sum=0\n",
    "    while temp_num>0:\n",
    "        digit=temp_num%10\n",
    "        sum+=digit**order\n",
    "        temp_num //= 10\n",
    "    if(num)==sum:\n",
    "        print(sum)"
   ]
  },
  {
   "cell_type": "code",
   "execution_count": null,
   "id": "9bf87095-34a4-4226-b95c-6f15e5c69c33",
   "metadata": {},
   "outputs": [],
   "source": []
  }
 ],
 "metadata": {
  "kernelspec": {
   "display_name": "Python [conda env:base] *",
   "language": "python",
   "name": "conda-base-py"
  },
  "language_info": {
   "codemirror_mode": {
    "name": "ipython",
    "version": 3
   },
   "file_extension": ".py",
   "mimetype": "text/x-python",
   "name": "python",
   "nbconvert_exporter": "python",
   "pygments_lexer": "ipython3",
   "version": "3.12.7"
  }
 },
 "nbformat": 4,
 "nbformat_minor": 5
}
