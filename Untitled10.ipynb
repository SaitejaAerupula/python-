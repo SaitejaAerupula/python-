{
 "cells": [
  {
   "cell_type": "code",
   "execution_count": 11,
   "id": "853f3f99-bd78-411b-95be-9517f5c6fb08",
   "metadata": {},
   "outputs": [
    {
     "name": "stdout",
     "output_type": "stream",
     "text": [
      "natural numbers\n"
     ]
    },
    {
     "name": "stdin",
     "output_type": "stream",
     "text": [
      "enter limit 10\n"
     ]
    },
    {
     "name": "stdout",
     "output_type": "stream",
     "text": [
      "ok 10 is 55\n"
     ]
    }
   ],
   "source": [
    "print(\"natural numbers\")\n",
    "a=int(input(\"enter limit\"))\n",
    "sum = 0\n",
    "for i in range (1,a+1):\n",
    "    sum +=i\n",
    "print(\"ok\",a, \"is\",sum)"
   ]
  },
  {
   "cell_type": "code",
   "execution_count": 13,
   "id": "59f0f849-9430-4822-97a6-3f71a744b788",
   "metadata": {},
   "outputs": [
    {
     "name": "stdout",
     "output_type": "stream",
     "text": [
      "decimL nd binary\n"
     ]
    },
    {
     "name": "stdin",
     "output_type": "stream",
     "text": [
      "enter a dec num 10\n"
     ]
    },
    {
     "name": "stdout",
     "output_type": "stream",
     "text": [
      "0b1010 in binary\n",
      "0o12 in octal\n",
      "0xa in hexa\n"
     ]
    }
   ],
   "source": [
    "print(\"decimL nd binary\")\n",
    "dec_num = int(input(\"enter a dec num\"))\n",
    "print(bin(dec_num),\"in binary\")\n",
    "print(oct(dec_num),\"in octal\")\n",
    "print(hex(dec_num),\"in hexa\")"
   ]
  },
  {
   "cell_type": "code",
   "execution_count": 9,
   "id": "2b7d8d33-6305-4d50-954a-18eae12dc585",
   "metadata": {},
   "outputs": [
    {
     "name": "stdout",
     "output_type": "stream",
     "text": [
      "Program To Find ASCII value of a character.\n"
     ]
    },
    {
     "name": "stdin",
     "output_type": "stream",
     "text": [
      "enter char s\n"
     ]
    },
    {
     "name": "stdout",
     "output_type": "stream",
     "text": [
      "the acsi value s is 115\n"
     ]
    }
   ],
   "source": [
    "print(\"Program To Find ASCII value of a character.\")\n",
    "char = str(input(\"enter char\"))\n",
    "print(\"the acsi value \" + char + \" is\",ord(char))"
   ]
  },
  {
   "cell_type": "code",
   "execution_count": null,
   "id": "25fd9ab1-85db-4e50-9e2b-4f38a840b8d3",
   "metadata": {},
   "outputs": [],
   "source": []
  }
 ],
 "metadata": {
  "kernelspec": {
   "display_name": "Python [conda env:base] *",
   "language": "python",
   "name": "conda-base-py"
  },
  "language_info": {
   "codemirror_mode": {
    "name": "ipython",
    "version": 3
   },
   "file_extension": ".py",
   "mimetype": "text/x-python",
   "name": "python",
   "nbconvert_exporter": "python",
   "pygments_lexer": "ipython3",
   "version": "3.12.7"
  }
 },
 "nbformat": 4,
 "nbformat_minor": 5
}
