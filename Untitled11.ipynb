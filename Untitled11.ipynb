{
 "cells": [
  {
   "cell_type": "code",
   "execution_count": 5,
   "id": "74aafd87-720e-4810-ae20-bd7689ad6ee9",
   "metadata": {},
   "outputs": [
    {
     "name": "stdout",
     "output_type": "stream",
     "text": [
      "Object `numbers` not found.\n"
     ]
    }
   ],
   "source": [
    "Write a Python Program for cube sum of first n natural numbers?\n",
    "\n"
   ]
  },
  {
   "cell_type": "code",
   "execution_count": 9,
   "id": "ad6e07a3-0d63-4d3c-9384-bf661fa0a115",
   "metadata": {},
   "outputs": [
    {
     "name": "stdin",
     "output_type": "stream",
     "text": [
      "enter limit 10\n"
     ]
    },
    {
     "name": "stdout",
     "output_type": "stream",
     "text": [
      "the sum of natural numbers  10 is 1\n",
      "the sum of natural numbers  10 is 3\n",
      "the sum of natural numbers  10 is 6\n",
      "the sum of natural numbers  10 is 10\n",
      "the sum of natural numbers  10 is 15\n",
      "the sum of natural numbers  10 is 21\n",
      "the sum of natural numbers  10 is 28\n",
      "the sum of natural numbers  10 is 36\n",
      "the sum of natural numbers  10 is 45\n",
      "the sum of natural numbers  10 is 55\n"
     ]
    }
   ],
   "source": [
    "limit = int(input(\"enter limit\"))\n",
    "sum = 0\n",
    "for i in range(1,limit+1):\n",
    "    sum+=i\n",
    "    print(\"the sum of natural numbers \",limit,\"is\",sum)"
   ]
  },
  {
   "cell_type": "code",
   "execution_count": 25,
   "id": "5dbab8f9-74d6-47c5-8e54-3cfe27c34c77",
   "metadata": {},
   "outputs": [
    {
     "name": "stdout",
     "output_type": "stream",
     "text": [
      "Write a Python Program to Find LCM\n"
     ]
    },
    {
     "name": "stdin",
     "output_type": "stream",
     "text": [
      "enter the number 10\n",
      "enter the number 23\n"
     ]
    },
    {
     "name": "stdout",
     "output_type": "stream",
     "text": [
      "the lcm is  230\n"
     ]
    }
   ],
   "source": [
    "print(\"Write a Python Program to Find LCM\")\n",
    "def compute_lcm(x,y):\n",
    "    if x > y:\n",
    "        greater = x\n",
    "    else:\n",
    "        greater = y\n",
    "    while(True):\n",
    "        if((greater % x==0) and (greater %y==0)):\n",
    "            lcm = greater\n",
    "            break\n",
    "        greater += 1\n",
    "    return lcm\n",
    "n1 = int(input('enter the number'))\n",
    "n2 = int(input('enter the number'))\n",
    "print(\"the lcm is \",compute_lcm(n1,n2))\n",
    "            \n"
   ]
  },
  {
   "cell_type": "code",
   "execution_count": 33,
   "id": "e63b2e4c-c9f1-4280-98ef-b90d093b80f1",
   "metadata": {},
   "outputs": [
    {
     "name": "stdin",
     "output_type": "stream",
     "text": [
      "enter a number 23\n"
     ]
    },
    {
     "name": "stdout",
     "output_type": "stream",
     "text": [
      "the natural 23.0 is : 3.1354942159291497\n"
     ]
    }
   ],
   "source": [
    "import math\n",
    "n = float(input(\"enter a number\"))\n",
    "if n <= 0:\n",
    "    print(\"please enter a positive num\")\n",
    "else:\n",
    "    result = math.log(n)\n",
    "    print(f\"the natural {n} is : {result}\")"
   ]
  },
  {
   "cell_type": "code",
   "execution_count": null,
   "id": "415d084a-dd6d-4ff3-9e38-68a2428ac073",
   "metadata": {},
   "outputs": [],
   "source": []
  },
  {
   "cell_type": "code",
   "execution_count": null,
   "id": "99981047-f156-4569-8558-9d1b266c7db1",
   "metadata": {},
   "outputs": [],
   "source": []
  },
  {
   "cell_type": "code",
   "execution_count": null,
   "id": "f2662e87-8474-48e5-9a4c-3a0d3a8b7660",
   "metadata": {},
   "outputs": [],
   "source": []
  },
  {
   "cell_type": "code",
   "execution_count": null,
   "id": "6094a2b9-e7ab-4ac2-9345-d81c228046bb",
   "metadata": {},
   "outputs": [],
   "source": []
  },
  {
   "cell_type": "code",
   "execution_count": null,
   "id": "1735edf3-a956-41ed-8023-99c7f78d7c34",
   "metadata": {},
   "outputs": [],
   "source": []
  },
  {
   "cell_type": "code",
   "execution_count": null,
   "id": "a794c1f7-8e9e-4bcd-9aeb-a9661aee0d7f",
   "metadata": {},
   "outputs": [],
   "source": []
  },
  {
   "cell_type": "code",
   "execution_count": null,
   "id": "4c2becbc-48ad-45fa-897e-8825fbdb01fb",
   "metadata": {},
   "outputs": [],
   "source": []
  }
 ],
 "metadata": {
  "kernelspec": {
   "display_name": "Python [conda env:base] *",
   "language": "python",
   "name": "conda-base-py"
  },
  "language_info": {
   "codemirror_mode": {
    "name": "ipython",
    "version": 3
   },
   "file_extension": ".py",
   "mimetype": "text/x-python",
   "name": "python",
   "nbconvert_exporter": "python",
   "pygments_lexer": "ipython3",
   "version": "3.12.7"
  }
 },
 "nbformat": 4,
 "nbformat_minor": 5
}
